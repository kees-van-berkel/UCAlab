{
 "cells": [
  {
   "cell_type": "markdown",
   "metadata": {},
   "source": [
    "Copyright © 2025  Kees van Berkel\n",
    "                                                                                \n",
    "Permission is hereby granted, free of charge, to any person obtaining a copy of \n",
    "this software and associated documentation files (the “Software”), to deal in \n",
    "the Software without restriction, including without limitation the rights to \n",
    "use, copy, modify, merge, publish, distribute, sublicense, and/or sell copies \n",
    "of the Software, and to permit persons to whom the Software is furnished to do \n",
    "so, subject to the following conditions:\n",
    "\n",
    "The above copyright notice and this permission notice shall be included in all \n",
    "copies or substantial portions of the Software.\n",
    "                                         \n",
    "THE SOFTWARE IS PROVIDED “AS IS”, WITHOUT WARRANTY OF ANY KIND, EXPRESS OR \n",
    "IMPLIED, INCLUDING BUT NOT LIMITED TO THE WARRANTIES OF MERCHANTABILITY, FITNESS \n",
    "FOR A PARTICULAR PURPOSE AND NONINFRINGEMENT. IN NO EVENT SHALL THE AUTHORS OR \n",
    "COPYRIGHT HOLDERS BE LIABLE FOR ANY CLAIM, DAMAGES OR OTHER LIABILITY, WHETHER \n",
    "IN AN ACTION OF CONTRACT, TORT OR OTHERWISE, ARISING FROM, OUT OF OR IN \n",
    "CONNECTION WITH THE SOFTWARE OR THE USE OR OTHER DEALINGS IN THE SOFTWARE."
   ]
  },
  {
   "cell_type": "markdown",
   "metadata": {},
   "source": [
    "# Experiments with 2D cellular automata"
   ]
  },
  {
   "cell_type": "code",
   "execution_count": null,
   "metadata": {},
   "outputs": [],
   "source": [
    "from UCAlab import *\n",
    "import numpy  as np\n",
    "\n",
    "SAVE_MP4 = False"
   ]
  },
  {
   "cell_type": "markdown",
   "metadata": {},
   "source": [
    "## Wave-packet reflection and refraction"
   ]
  },
  {
   "cell_type": "code",
   "execution_count": null,
   "metadata": {
    "tags": [
     "hide-input"
    ]
   },
   "outputs": [],
   "source": [
    "Nx,Ny   = 500, 500\n",
    "theta   = np.pi/24\n",
    "H_slab  = 100\n",
    "V_slab  = 4*0.06\n",
    "X       = lambda x,y: (x==0 or y==0)    \n",
    "V       = lambda x,y: V_slab if Ny//2-H_slab//2 <= y < Ny//2+H_slab//2 else 0    \n",
    "uca_RF_V= UCA2D(Nx, Ny)\n",
    "uca_RF_V.set_hamiltonian(theta, X=X, V=V)\n",
    "\n",
    "name    = '41a-refraction-V-region'\n",
    "title   = 'Wavepacket refraction, V-region'\n",
    "sigma   = 40\n",
    "cpf     = 12\n",
    "wave    = lambda x,y: W_packet2D(x,y, 90, 80, sigma=sigma, kx=np.pi/4, ky=np.pi/2)\n",
    "uca_RF_V.init(wave, name=name, title=title)  \n",
    "uca_RF_V.log_trace_max = True\n",
    "uca_RF_V.animate(1800, cpf=cpf, Psi_save=10, save=SAVE_MP4)"
   ]
  },
  {
   "cell_type": "code",
   "execution_count": null,
   "metadata": {
    "tags": [
     "hide-input"
    ]
   },
   "outputs": [],
   "source": [
    "uca_RF_V.plot(Psi_shape=(2,5), save=True)"
   ]
  },
  {
   "cell_type": "code",
   "execution_count": null,
   "metadata": {},
   "outputs": [],
   "source": [
    "Nx,Ny   = 500, 500\n",
    "H_slab  = 100\n",
    "X       = lambda x,y: (x==0 or y==0)    \n",
    "theta0  = np.pi/24\n",
    "theta1  = theta0/1.5\n",
    "theta1  = theta0/1.6\n",
    "theta1  = np.pi/38\n",
    "theta   = lambda x,y: theta1 if Ny//2-H_slab//2 <= y < Ny//2+H_slab//2 else theta0    \n",
    "uca_RF_T= UCA2D(Nx, Ny)\n",
    "uca_RF_T.set_hamiltonian(theta, X=X)\n",
    "\n",
    "name    = '41b-refraction-theta-region'\n",
    "title   = 'Wavepacket refraction, $\\\\theta$-region'\n",
    "sigma   = 40\n",
    "cpf     = 12\n",
    "wave    = lambda x,y: W_packet2D(x,y, 90, 80, sigma=sigma, kx=np.pi/4, ky=np.pi/2)\n",
    "uca_RF_T.init(wave, name=name, title=title)  \n",
    "uca_RF_T.log_trace_max = True\n",
    "uca_RF_T.animate(1800, cpf=cpf, Psi_save=10, save=SAVE_MP4)"
   ]
  },
  {
   "cell_type": "code",
   "execution_count": null,
   "metadata": {},
   "outputs": [],
   "source": [
    "uca_RF_T.plot(Psi_shape=(2,5), save=True)"
   ]
  },
  {
   "cell_type": "markdown",
   "metadata": {},
   "source": [
    "## The Davisson–Germer experiment"
   ]
  },
  {
   "cell_type": "code",
   "execution_count": null,
   "metadata": {},
   "outputs": [],
   "source": [
    "from UCAlab import *\n",
    "\n",
    "Nx, Ny  = 500, 300                                          \n",
    "theta   = np.pi/24\n",
    "d       = 5                             # distance between crystal layers\n",
    "ys      = 100\n",
    "X       = lambda x,y: y<ys and y%d==0 and x%d==0\n",
    "uca_DG90= UCA2D(Nx, Ny)\n",
    "uca_DG90.set_hamiltonian(theta, X=X)\n",
    "\n",
    "k       = np.pi/5\n",
    "kx      =  0\n",
    "ky      = -k\n",
    "wave90  = lambda x,y: W_packet2D(x,y, Nx//2, 190, sigma=40, kx=kx, ky=ky)                      \n",
    "name    = '42a-Davisson–Germer-angle-90'\n",
    "title   = 'The Davisson–Germer experiment, angle=$90^o$'\n",
    "uca_DG90.init(wave90, name=name, title=title)\n",
    "uca_DG90.animate(1400, cpf=8, Psi_save=8, save=SAVE_MP4)"
   ]
  },
  {
   "cell_type": "code",
   "execution_count": null,
   "metadata": {},
   "outputs": [],
   "source": [
    "uca_DG90.plot(Psi_shape=(2,4), save=True)"
   ]
  },
  {
   "cell_type": "code",
   "execution_count": null,
   "metadata": {},
   "outputs": [],
   "source": [
    "from UCAlab import *\n",
    "\n",
    "Nx, Ny  = 500, 300                                          \n",
    "theta   = np.pi/24\n",
    "d       = 5                             # distance between crystal layers\n",
    "X       = lambda x,y: y<100 and y%d==0 and x%d==0\n",
    "uca_DG30= UCA2D(Nx, Ny)\n",
    "uca_DG30.set_hamiltonian(theta, X=X)\n",
    "\n",
    "k       = np.pi/5\n",
    "kx      = np.sqrt(3/4) *k\n",
    "ky      = -0.5 *k\n",
    "wave30  = lambda x,y: W_packet2D(x,y, 90, 190, sigma=40, kx=kx, ky=ky)                      \n",
    "name    = '42b-Davisson–Germer-angle-30'\n",
    "title   = 'The Davisson–Germer experiment, angle=$30^o$'\n",
    "uca_DG30.init(wave30, name=name, title=title)\n",
    "uca_DG30.animate(7*340, cpf=12, Psi_save=8, save=SAVE_MP4)"
   ]
  },
  {
   "cell_type": "code",
   "execution_count": null,
   "metadata": {},
   "outputs": [],
   "source": [
    "uca_DG30.plot(Psi_shape=(2,4), save=True)"
   ]
  },
  {
   "cell_type": "markdown",
   "metadata": {},
   "source": [
    "## The Mach-Zehnder interferometer"
   ]
  },
  {
   "cell_type": "code",
   "execution_count": null,
   "metadata": {},
   "outputs": [],
   "source": [
    "from UCAlab import *\n",
    "\n",
    "def uca2d_mz(offset=0, A=None):\n",
    "    Nx,Ny   = 800, 700                      # cell count\n",
    "    uca     = UCA2D(Nx, Ny)\n",
    "    theta   = np.pi/24                      # rotation angle\n",
    "    V_split = 4*0.062                       # potential of beam splitter\n",
    "    xl, xu  = 250, 550                      # x-center of splitters, mirrors\n",
    "    xw      = 100                           # half x-width of    spl/mir\n",
    "    fxl     = lambda x: abs(x-xl)<=xw       # x-extent of lower  spl/mir \n",
    "    fxh     = lambda x: abs(x-xu)<=xw       # x-extent of higher spl/mir \n",
    "    X       = lambda x,y: fxl(x) and y+x==480 or fxh(x) and y+x==1080+offset\n",
    "    V       = lambda x,y: V_split if (fxl(x) or fxh(x)) and y+x==780 else 0\n",
    "    uca.set_hamiltonian(theta, X=X, V=V, A=A)\n",
    "    return uca\n",
    "\n",
    "uca_MZ1s= uca2d_mz(offset=0)\n",
    "wave    = lambda x,y: W_packet2D(x,y, 80, 550, 40, kx=np.pi/2, ky=0)\n",
    "name    = '43a-Mach–Zehnder-symmetric'\n",
    "title   = 'Mach-Zehnder interferometer, symmetric' \n",
    "uca_MZ1s.init(wave, name=name, title=title)  \n",
    "uca_MZ1s.animate(3600, cpf=25, Psi_save=10, save=SAVE_MP4)"
   ]
  },
  {
   "cell_type": "code",
   "execution_count": null,
   "metadata": {
    "scrolled": true
   },
   "outputs": [],
   "source": [
    "uca_MZ1s.plot(Psi_shape=(2,5), save=True)"
   ]
  },
  {
   "cell_type": "code",
   "execution_count": null,
   "metadata": {},
   "outputs": [],
   "source": [
    "uca_MZ1o= uca2d_mz(offset=2)\n",
    "wave    = lambda x,y: W_packet2D(x,y, 80, 540, 40, kx=np.pi/2, ky=0)\n",
    "name    = '43b-Mach–Zehnder-with-offset'\n",
    "title   = 'Mach-Zehnder interferometer, with offset' \n",
    "uca_MZ1o.init(wave, name=name, title=title)  \n",
    "uca_MZ1o.animate(3600, cpf=25, Psi_save=10, save=SAVE_MP4)"
   ]
  },
  {
   "cell_type": "code",
   "execution_count": null,
   "metadata": {
    "scrolled": true
   },
   "outputs": [],
   "source": [
    "uca_MZ1o.plot(Psi_slice=slice(5,10), Psi_shape=(1,5), save=True)"
   ]
  },
  {
   "cell_type": "code",
   "execution_count": null,
   "metadata": {},
   "outputs": [],
   "source": [
    "from UCAlab import *\n",
    "\n",
    "def uca2d_mz2(offset=0, A=None):\n",
    "    Nx,Ny   = 1100, 900                     # cell count\n",
    "    uca     = UCA2D(Nx, Ny)\n",
    "    theta   = np.pi/24                      # rotation angle\n",
    "    V_split = 4*0.062                       # potential of beam splitter\n",
    "    xl, xm, xu  = 250, 550, 850             # x-center of splitters, mirrors\n",
    "    xw      = 100                           # half x-width of    spl/mir\n",
    "    fxl     = lambda x: abs(x-xl)<=xw       # x-extent of lower  spl/mir \n",
    "    fxm     = lambda x: abs(x-xm)<=xw       # x-extent of middle spl/mir \n",
    "    fxh     = lambda x: abs(x-xu)<=xw       # x-extent of higher spl/mir \n",
    "    X       = lambda x,y: fxl(x) and y+x==400 or fxh(x)   and y+x==1600+offset\n",
    "    V       = lambda x,y: (V_split if ((fxl(x)          ) and y+x== 700 or\n",
    "                                       (          fxm(x)) and y+x== 702 or\n",
    "                                       (fxl(x) or fxh(x)) and y+x==1000 or\n",
    "                                       (fxm(x) or fxh(x)) and y+x==1300) else 0)\n",
    "    uca.set_hamiltonian(theta, X=X, V=V, A=A)\n",
    "    return uca\n",
    "                                                                                \n",
    "uca_MZ2 = uca2d_mz2(offset=0)\n",
    "wave    = lambda x,y: W_packet2D(x,y, 80, 770, 40, kx=np.pi/2, ky=0)\n",
    "name    = '43c-Mach–Zehnder-2nd-order'\n",
    "title   = 'Mach-Zehnder interferometer, 2nd order' \n",
    "uca_MZ2.init(wave, name=name, title=title)  \n",
    "uca_MZ2.animate(5800, cpf=35, Psi_save=10, save=SAVE_MP4)"
   ]
  },
  {
   "cell_type": "code",
   "execution_count": null,
   "metadata": {},
   "outputs": [],
   "source": [
    "uca_MZ2.plot(Psi_shape=(2,5), save=True)"
   ]
  },
  {
   "cell_type": "markdown",
   "metadata": {},
   "source": [
    "## The double-slit experiment"
   ]
  },
  {
   "cell_type": "code",
   "execution_count": null,
   "metadata": {},
   "outputs": [],
   "source": [
    "from UCAlab import *\n",
    "\n",
    "def X_single_slit(Nx, Ny, xs, w, d, b):\n",
    "    xl, xh  = xs-w//2, xs+w//2                  # screen along x\n",
    "    y0l, y0h= Ny//2-b//2, Ny//2+b//2  # gap 0 along y\n",
    "    X = lambda x,y: (x==0 or xl<=x<xh and not(y0l<=y<y0h))\n",
    "    return X\n",
    "                                                \n",
    "Nx, Ny  = 500, 500\n",
    "xs      = Nx//2                                 # x of slit-screen\n",
    "w, d, b = 16, 40, 20                            # values must be even                                         \n",
    "theta   = np.pi/24\n",
    "X       = X_single_slit(Nx, Ny, xs, w, d, b)\n",
    "\n",
    "uca_ss  = UCA2D(Nx, Ny)\n",
    "uca_ss.set_hamiltonian(theta, X=X) \n",
    "uca_ss.set_probe_boxes(['left', 'right'])\n",
    "\n",
    "sigma   = 40\n",
    "kx      = np.pi/5\n",
    "wave    = lambda x,y: W_packet2D(x,y, xs//2, Ny//2, sigma=sigma, kx=kx)\n",
    "name    = '44a-single-slit'\n",
    "title   = 'Single-slit interference' \n",
    "uca_ss.init(wave, name=name, title=title)\n",
    "uca_ss.animate(3150, cpf=16, Psi_save=10, probe_max=0.06, save=SAVE_MP4) "
   ]
  },
  {
   "cell_type": "code",
   "execution_count": null,
   "metadata": {},
   "outputs": [],
   "source": [
    "uca_ss.plot(Psi_shape=(2,5), save=True)"
   ]
  },
  {
   "cell_type": "code",
   "execution_count": null,
   "metadata": {},
   "outputs": [],
   "source": [
    "from UCAlab import *\n",
    "\n",
    "def X_double_slit(Nx, Ny, xs, w, d, b):\n",
    "    xl, xh  = xs-w//2, xs+w//2                  # screen along x\n",
    "    y0l, y0h= Ny//2-d//2-b//2, Ny//2-d//2+b//2  # gap 0 along y\n",
    "    y1l, y1h= Ny//2+d//2-b//2, Ny//2+d//2+b//2  # gap 1 along y                                         \n",
    "    X = lambda x,y: (x==0 or xl<=x<xh and not(y0l<=y<y0h or y1l<=y<y1h))\n",
    "    return X\n",
    "                                                \n",
    "Nx, Ny  = 500, 500\n",
    "xs      = Nx//2                                 # x of slit-screen\n",
    "w, d, b = 16, 40, 20                            # values must be even                                         \n",
    "theta   = np.pi/24\n",
    "X       = X_double_slit(Nx, Ny, xs, w, d, b)\n",
    "\n",
    "uca_ds  = UCA2D(Nx, Ny)\n",
    "uca_ds.set_hamiltonian(theta, X=X) \n",
    "uca_ds.set_probe_boxes(['left', 'right'])\n",
    "\n",
    "sigma   = 40    \n",
    "kx      = np.pi/5\n",
    "wave    = lambda x,y: W_packet2D(x,y, xs//2, Ny//2, sigma=sigma, kx=kx)  \n",
    "name    = '44b-double-slit'\n",
    "title   = 'Double-slit interference' \n",
    "uca_ds.init(wave, name=name, title=title)\n",
    "uca_ds.animate(3150, cpf=16, Psi_save=10, probe_max=0.06, save=SAVE_MP4)              "
   ]
  },
  {
   "cell_type": "code",
   "execution_count": null,
   "metadata": {},
   "outputs": [],
   "source": [
    "uca_ds.plot(Psi_shape=(2,5), save=True)"
   ]
  },
  {
   "cell_type": "code",
   "execution_count": null,
   "metadata": {},
   "outputs": [],
   "source": [
    "uca_ds.plot(Psi_shape=(2,5), real=True, save=True)"
   ]
  },
  {
   "cell_type": "code",
   "execution_count": null,
   "metadata": {},
   "outputs": [],
   "source": [
    "import  matplotlib.pyplot    as plt\n",
    "\n",
    "Ny  = uca_ds.Ny\n",
    "kx  = np.pi/5\n",
    "d   = 40                                # slit separation\n",
    "b   = 20                                # slit width\n",
    "l   = (Nx-w)/2-1                        # distance to RHS screen \n",
    "              \n",
    "def intensity_wide(y):\n",
    "    I0      = 0.169                     # to match measured I\n",
    "    angle   = np.arctan((y-Ny//2)/l)\n",
    "    alpha   = kx/2 *d *np.sin(angle) \n",
    "    beta    = kx/2 *b *np.sin(angle)    # sinc includes pi    \n",
    "    return I0 * np.sinc(beta)**2 *np.cos(alpha)**2\n",
    "\n",
    "def intensity_narrow(y):\n",
    "    I0      = 0.0445                     # to match measured I\n",
    "    angle   = np.arctan((y-Ny//2)/l)\n",
    "    return I0 * np.cos(kx*d*np.sin(angle)/2)**2\n",
    "\n",
    "def plot_double_slit_intensity(ax, uca, side, uca2=None):\n",
    "    Y   = uca.Psi_probes[side]\n",
    "    X   = np.arange(0, len(Y))\n",
    "    ax.plot(X, Y)\n",
    "    x   = uca.probe_boxes[side][0]\n",
    "    ax.set_title('$\\\\Sigma_t \\\\;P[$' +str(x) +'$ ,y](t)$', fontsize=12)\n",
    "    if side==0:\n",
    "        ax.set_ylabel('Intensity', fontsize=12)\n",
    "    elif uca2 is None:\n",
    "        Y0  = [intensity_wide(y)   for y in X]\n",
    "        ax.plot(X,Y0)\n",
    "        Y1  = [intensity_narrow(y) for y in X]\n",
    "        ax.plot(X,Y1)\n",
    "        R = slice(153,347)\n",
    "    if not uca2 is None:\n",
    "        Y   = uca2.Psi_probes[side]\n",
    "        ax.plot(X, Y)\n",
    "\n",
    "def plot_pair(plot0, plot1=None, title='', name='', sharey=None,\n",
    "                 figsize=None, save=False):   \n",
    "    p1      = not plot1 is None\n",
    "    fig_N   = 1+int(not plot1 is None)\n",
    "    if figsize is None:\n",
    "        fig_W   = UCA1D._fig_width \n",
    "        fig_H   = UCA1D._fig_height\n",
    "        if fig_N==1: fig_W*=0.5 \n",
    "        figsize = (fig_W, fig_H)\n",
    "    fig, ax = plt.subplots(1, fig_N, sharey=sharey, figsize=figsize)\n",
    "    ax0     = ax[0] if p1 else ax\n",
    "    plot0(ax0)\n",
    "    if p1: \n",
    "        plot1(ax[1])\n",
    "    if title!='':\n",
    "        fig.suptitle(title, fontsize=UCA1D.fontsize_title)\n",
    "    fig.tight_layout()\n",
    "    if save:\n",
    "        fig.savefig('./png/'+name+'.png')\n",
    "    plt.show()\n",
    "\n",
    "plot_ds_left  = lambda ax: plot_double_slit_intensity(ax, uca_ds, 0) \n",
    "plot_ds_right = lambda ax: plot_double_slit_intensity(ax, uca_ds, 1)\n",
    "plot_pair(plot_ds_left, plot1=plot_ds_right, sharey='row',\n",
    "          name='44c-double-slit-interference', save=True);"
   ]
  },
  {
   "cell_type": "markdown",
   "metadata": {},
   "source": [
    "## The Aharonov-Bohm effect"
   ]
  },
  {
   "cell_type": "code",
   "execution_count": null,
   "metadata": {},
   "outputs": [],
   "source": [
    "from UCAlab import *\n",
    "\n",
    "def A_solenoid(x,y, x0, y0, Ac):\n",
    "    R2  =  (x-x0)**2 + (y-y0)**2 + 1e-20\n",
    "    Ax  = -Ac*(y-y0)/R2\n",
    "    Ay  =  Ac*(x-x0)/R2\n",
    "    return Ax, Ay\n",
    "\n",
    "def uca2d_mz(offset=0, A=None):\n",
    "    Nx,Ny   = 800, 700                      # cell count\n",
    "    name    = 'Mach–Zehnder-' +str(offset)\n",
    "    if not A is None: name+='-AB'\n",
    "    uca     = UCA2D(Nx, Ny, name=name)\n",
    "    theta   = np.pi/24                      # rotation angle\n",
    "    V_split = 4*0.062                         # potential of beam splitter\n",
    "    xl, xu  = 250, 550                      # x-center of splitters, mirrors\n",
    "    xw      = 100                           # half x-width of    spl/mir\n",
    "    fxl     = lambda x: abs(x-xl)<=xw       # x-extent of lower  spl/mir \n",
    "    fxh     = lambda x: abs(x-xu)<=xw       # x-extent of higher spl/mir \n",
    "    X       = lambda x,y: fxl(x) and y+x==480 or fxh(x) and y+x==1080+offset\n",
    "    V       = lambda x,y: V_split if (fxl(x) or fxh(x)) and y+x==780 else 0\n",
    "    A       = lambda x,y: A_solenoid(x,y, Nx//2, 380, -0.64)\n",
    "    uca.set_hamiltonian(theta, X=X, V=V, A=A)\n",
    "    return uca\n",
    "\n",
    "Nx,Ny   = 800, 600                      # cell count\n",
    "uca_ABMZ= uca2d_mz(offset=0)\n",
    "wave    = lambda x,y: W_packet2D(x,y, 80, 550, 40, kx=np.pi/2, ky=0)\n",
    "name    = '45a-Aharonov-Bohm-Mach-Zehnder'\n",
    "title   = 'Mach-Zehnder / Aharonov-Bohm' "
   ]
  },
  {
   "cell_type": "code",
   "execution_count": null,
   "metadata": {},
   "outputs": [],
   "source": [
    "uca_ABMZ.init(wave, name=name, title=title)  \n",
    "uca_ABMZ.animate(3600, cpf=25, Psi_save=10, save=SAVE_MP4)"
   ]
  },
  {
   "cell_type": "code",
   "execution_count": null,
   "metadata": {
    "scrolled": true
   },
   "outputs": [],
   "source": [
    "uca_ABMZ.plot(Psi_shape=(2,5), save=True)"
   ]
  },
  {
   "cell_type": "code",
   "execution_count": null,
   "metadata": {},
   "outputs": [],
   "source": [
    "\n",
    "def X_double_slit(Nx, Ny, xs, w, d, b):\n",
    "    xl, xh  = xs-w//2, xs+w//2                  # screen along x\n",
    "    y0l, y0h= Ny//2-d//2-b//2, Ny//2-d//2+b//2  # gap 0 along y\n",
    "    y1l, y1h= Ny//2+d//2-b//2, Ny//2+d//2+b//2  # gap 1 along y                                         \n",
    "    X = lambda x,y: (x==0 or xl<=x<xh and not(y0l<=y<y0h or y1l<=y<y1h))\n",
    "    return X\n",
    "\n",
    "Nx, Ny  = 500, 500\n",
    "xs      = Nx//2                                 # x of slit-screen\n",
    "w, d, b = 16, 40, 20                            # values must be even                                         \n",
    "theta   = np.pi/24\n",
    "X       = X_double_slit(Nx, Ny, xs, w, d, b)\n",
    "A       = lambda x,y: A_solenoid(x,y, Nx//2+w, Ny//2, -0.4)\n",
    "\n",
    "uca_ABds= UCA2D(Nx, Ny)\n",
    "uca_ABds.set_hamiltonian(theta, X=X, A=A) \n",
    "uca_ABds.set_probe_boxes(['left', 'right'])\n",
    "\n",
    "kx      = np.pi/5\n",
    "sigma   = 40\n",
    "wave    = lambda x,y: W_packet2D(x,y, xs//2, Ny//2, sigma, kx=kx)\n",
    "name    = '45b-Aharonov-Bohm-double-slit'\n",
    "title   = 'Double-slit interference / Aharonov-Bohm' \n",
    "uca_ABds.init(wave, name=name, title=title)\n",
    "uca_ABds.animate(3150, cpf=16, Psi_save=10, probe_max=0.07, save=SAVE_MP4)  "
   ]
  },
  {
   "cell_type": "code",
   "execution_count": null,
   "metadata": {},
   "outputs": [],
   "source": [
    "uca_ABds.plot(Psi_shape=(2,5), save=True)"
   ]
  },
  {
   "cell_type": "code",
   "execution_count": null,
   "metadata": {},
   "outputs": [],
   "source": [
    "plot_ds_left  = lambda ax: plot_double_slit_intensity(ax, uca_ds, 0, uca2=uca_ABds) \n",
    "plot_ds_right = lambda ax: plot_double_slit_intensity(ax, uca_ds, 1, uca2=uca_ABds)\n",
    "plot_pair(plot_ds_left, plot1=plot_ds_right, sharey='row',\n",
    "             name='45c-double-slit-interference', save=True);"
   ]
  }
 ],
 "metadata": {
  "celltoolbar": "Edit Metadata",
  "kernelspec": {
   "display_name": "Python 3 (ipykernel)",
   "language": "python",
   "name": "python3"
  },
  "language_info": {
   "codemirror_mode": {
    "name": "ipython",
    "version": 3
   },
   "file_extension": ".py",
   "mimetype": "text/x-python",
   "name": "python",
   "nbconvert_exporter": "python",
   "pygments_lexer": "ipython3",
   "version": "3.12.7"
  },
  "toc": {
   "base_numbering": 1,
   "nav_menu": {},
   "number_sections": true,
   "sideBar": true,
   "skip_h1_title": false,
   "title_cell": "Table of Contents",
   "title_sidebar": "Contents",
   "toc_cell": false,
   "toc_position": {},
   "toc_section_display": true,
   "toc_window_display": false
  }
 },
 "nbformat": 4,
 "nbformat_minor": 4
}
