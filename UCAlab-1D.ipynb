{
 "cells": [
  {
   "cell_type": "markdown",
   "id": "83a8a663-7e68-42f0-87ad-1e5701fd585b",
   "metadata": {},
   "source": [
    "Copyright © 2025  Kees van Berkel\n",
    "                                                                                \n",
    "Permission is hereby granted, free of charge, to any person obtaining a copy of \n",
    "this software and associated documentation files (the “Software”), to deal in \n",
    "the Software without restriction, including without limitation the rights to \n",
    "use, copy, modify, merge, publish, distribute, sublicense, and/or sell copies \n",
    "of the Software, and to permit persons to whom the Software is furnished to do \n",
    "so, subject to the following conditions:\n",
    "\n",
    "The above copyright notice and this permission notice shall be included in all \n",
    "copies or substantial portions of the Software.\n",
    "                                         \n",
    "THE SOFTWARE IS PROVIDED “AS IS”, WITHOUT WARRANTY OF ANY KIND, EXPRESS OR \n",
    "IMPLIED, INCLUDING BUT NOT LIMITED TO THE WARRANTIES OF MERCHANTABILITY, FITNESS \n",
    "FOR A PARTICULAR PURPOSE AND NONINFRINGEMENT. IN NO EVENT SHALL THE AUTHORS OR \n",
    "COPYRIGHT HOLDERS BE LIABLE FOR ANY CLAIM, DAMAGES OR OTHER LIABILITY, WHETHER \n",
    "IN AN ACTION OF CONTRACT, TORT OR OTHERWISE, ARISING FROM, OUT OF OR IN \n",
    "CONNECTION WITH THE SOFTWARE OR THE USE OR OTHER DEALINGS IN THE SOFTWARE."
   ]
  },
  {
   "cell_type": "code",
   "execution_count": null,
   "id": "4f78f348-4f01-43ff-a1a3-0e211929b304",
   "metadata": {},
   "outputs": [],
   "source": [
    "from UCAlab import *\n",
    "import numpy  as np\n",
    "\n",
    "SAVE_MP4 = False"
   ]
  },
  {
   "cell_type": "markdown",
   "id": "b3a14c5b",
   "metadata": {},
   "source": [
    "# Experiments with 1D cellular automata"
   ]
  },
  {
   "cell_type": "markdown",
   "id": "2e310e1d",
   "metadata": {},
   "source": [
    "## A homogeneous CA with periodic boundaries: plane waves"
   ]
  },
  {
   "cell_type": "code",
   "execution_count": null,
   "id": "5eb98d86-5653-4d00-a823-e0014af78037",
   "metadata": {
    "scrolled": true
   },
   "outputs": [],
   "source": [
    "uca_pw  = UCA1D(16)\n",
    "theta   = np.pi/24\n",
    "uca_pw.set_hamiltonian(theta)\n",
    "\n",
    "k       = np.pi/4\n",
    "wave    = lambda x: W_plane1D(x, 0, k=k)\n",
    "name    = '31a-plane-waves'\n",
    "c_pi    = '\\u03C0'\n",
    "title   = 'A plane wave with wavenumber k=' +c_pi+'/4'\n",
    "uca_pw.init(wave, name=name, title=title) \n",
    "uca_pw.animate(100, cpf=1, Psi_save=50, imag=True, save=SAVE_MP4)"
   ]
  },
  {
   "cell_type": "code",
   "execution_count": null,
   "id": "5b86aaaf-048c-4d0f-83de-d02d885bbf39",
   "metadata": {},
   "outputs": [],
   "source": [
    "uca_pw.plot_time(real=True, imag=True, T_real=True, add_time0=True, save=True)"
   ]
  },
  {
   "cell_type": "markdown",
   "id": "45652fbc",
   "metadata": {},
   "source": [
    "## A homogeneous CA with periodic boundaries: wavepackets"
   ]
  },
  {
   "cell_type": "code",
   "execution_count": null,
   "id": "58c44a83-46b0-43b9-9e06-e66245d7d2b5",
   "metadata": {
    "hide_input": false
   },
   "outputs": [],
   "source": [
    "theta   = np.pi/24\n",
    "uca_wps = UCA1D(400)\n",
    "uca_wps.set_hamiltonian(theta)\n",
    "\n",
    "wave    = lambda x: W_packet1D(x, 40, 8, k=np.pi/8)\n",
    "name    = '32a-wavepackets-sparse'\n",
    "c_pi    = '\\u03C0'\n",
    "title   = 'A wavepacket with wavenumber k=' +c_pi+'/8'\n",
    "uca_wps.init(wave, name=name, title=title)  \n",
    "uca_wps.animate(2000, cpf=20, Psi_save=50, save=SAVE_MP4)"
   ]
  },
  {
   "cell_type": "code",
   "execution_count": null,
   "id": "c0d4c934-8825-47e3-bcdb-77ce9249ab81",
   "metadata": {
    "hide_input": false
   },
   "outputs": [],
   "source": [
    "uca_wps.plot_time(real=True, add_time0=True, save=True)"
   ]
  },
  {
   "cell_type": "code",
   "execution_count": null,
   "id": "64adefd8-a105-4879-86eb-8c4f3e1aea06",
   "metadata": {
    "hide_input": false
   },
   "outputs": [],
   "source": [
    "theta   = np.pi/24\n",
    "uca_wpd = UCA1D(400)\n",
    "uca_wpd.set_hamiltonian(theta)\n",
    "\n",
    "wave    = lambda x: W_packet1D(x, 40, 8, k=np.pi/2)\n",
    "name    = '32b-wavepackets-dense'\n",
    "c_pi    = '\\u03C0'\n",
    "title   = 'A wavepacket with wavenumber k=' +c_pi+'/2'\n",
    "uca_wpd.init(wave, name=name, title=title)  \n",
    "uca_wpd.update_U0U1 = False      \n",
    "uca_wpd.animate(6000, cpf=40, Psi_save=40, save=SAVE_MP4)"
   ]
  },
  {
   "cell_type": "code",
   "execution_count": null,
   "id": "1a87a1ef-54f2-4705-833b-0891b5109c5a",
   "metadata": {
    "hide_input": false
   },
   "outputs": [],
   "source": [
    "uca_wpd.plot_time(real=True, add_time0=True, save=True)"
   ]
  },
  {
   "cell_type": "markdown",
   "id": "80ce1032-d21e-493c-9787-1a227febf70b",
   "metadata": {
    "slideshow": {
     "slide_type": "subslide"
    }
   },
   "source": [
    "## An infinite potential well: wavepackets"
   ]
  },
  {
   "cell_type": "code",
   "execution_count": null,
   "id": "edb0d7f7-6401-4d7a-adec-a8e190c3dc31",
   "metadata": {
    "hide_input": false
   },
   "outputs": [],
   "source": [
    "   \n",
    "N       = 400\n",
    "theta   = np.pi/24    \n",
    "uca_ipw_wp = UCA1D(N)\n",
    "uca_ipw_wp.set_hamiltonian(theta, X=lambda x: x==N-1)\n",
    "\n",
    "wave    = lambda x: W_packet1D(x, 40, 8, k=np.pi/2)\n",
    "name    = '33a-reflection'\n",
    "title   = 'A wavepacket in an infinite potential well'\n",
    "uca_ipw_wp.init(wave, name=name, title=title)  \n",
    "uca_ipw_wp.animate(4000, cpf=40, Psi_save=50, save=SAVE_MP4)"
   ]
  },
  {
   "cell_type": "code",
   "execution_count": null,
   "id": "bc7fb190-91c8-47bd-b769-ab7aedbc7bcf",
   "metadata": {
    "hide_input": false
   },
   "outputs": [],
   "source": [
    "uca_ipw_wp.plot_time(real=True, add_time0=True, save=True)"
   ]
  },
  {
   "cell_type": "code",
   "execution_count": null,
   "id": "c3e90efa-22e8-4435-9b0d-86ba172d2338",
   "metadata": {
    "hide_input": false
   },
   "outputs": [],
   "source": [
    "N        = 400\n",
    "theta    = np.pi/24\n",
    "uca_rf   = UCA1D(N)\n",
    "V        = lambda x: (0.24 if 160<x<240 else 0)\n",
    "uca_rf.set_hamiltonian(theta, X=lambda x: x==0, V=V)\n",
    "\n",
    "wave    = lambda x: W_packet1D(x, 80, 20, k=np.pi/2)\n",
    "name    = '33b-refraction'\n",
    "title   = 'A wavepacket moving across a high potential region'\n",
    "uca_rf.init(wave, name=name, title=title)  \n",
    "uca_rf.animate(2000, cpf=10, Psi_save=40, save=SAVE_MP4)"
   ]
  },
  {
   "cell_type": "code",
   "execution_count": null,
   "id": "5620f3e8-08fc-484f-8064-bb3cdbb38902",
   "metadata": {
    "hide_input": false,
    "scrolled": true
   },
   "outputs": [],
   "source": [
    "uca_rf.plot_time(real=True, add_time0=True, save=True)"
   ]
  },
  {
   "cell_type": "markdown",
   "id": "4b7c0ed3",
   "metadata": {},
   "source": [
    "##  An infinite potential well: eigen states"
   ]
  },
  {
   "cell_type": "code",
   "execution_count": null,
   "id": "d2a8981b-d561-4dda-855e-100dc4f973c3",
   "metadata": {},
   "outputs": [],
   "source": [
    "def W_box(x, xc, L, n):\n",
    "    k = n*np.pi/L\n",
    "    return np.sin(k*(x-xc+L/2)) if xc-L/2 < x <= xc+L/2 else 0\n",
    "\n",
    "L       = 17\n",
    "N       = L+1   \n",
    "theta   = np.pi/24    \n",
    "uca_ipw = UCA1D(N, name='box') \n",
    "uca_ipw.set_hamiltonian(theta, X=lambda x: x==L)                      \n",
    "uca_ipw.update_U0U1 = True         # CRITICAL for correct eigen frequency\n",
    "\n",
    "wave3   = lambda x: W_box1D(x, L/2, L,  3)\n",
    "name    = '34a-infinite-potential-well'+'-init'\n",
    "uca_ipw.init(wave3, name=name) \n",
    "uca_ipw.reset()\n",
    "Psi3    = uca_ipw.Psi.copy() \n",
    "\n",
    "wave13  = lambda x: W_box1D(x, L/2, L, L-3)\n",
    "uca_ipw.init(wave13, name=name) \n",
    "uca_ipw.reset()\n",
    "\n",
    "title   = 'A square well with eigen states n=3 and n=13'\n",
    "uca_ipw.Psi_saves = [Psi3, uca_ipw.Psi]\n",
    "uca_ipw.Psi_times = [0,0]\n",
    "uca_ipw.plot(real=True, imag=True, Psi_shape=(1,2), title='', save=True)\n"
   ]
  },
  {
   "cell_type": "code",
   "execution_count": null,
   "id": "9e802960-a9f4-4a5a-8219-bc5d76d01873",
   "metadata": {},
   "outputs": [],
   "source": [
    "wave3   = lambda x: W_box1D(x, L/2, L,  3)\n",
    "name    = '34b-infinite-potential-well'\n",
    "title   = 'An infinite potential well with eigen state n=3'\n",
    "uca_ipw.init(wave3, name=name, title=title) \n",
    "uca_ipw.log_oscillation = True\n",
    "uca_ipw.log_sum_abs_Psi_imag = True\n",
    "uca_ipw.animate(166, cpf=1, Psi_save=12, imag=True, save=SAVE_MP4)"
   ]
  },
  {
   "cell_type": "code",
   "execution_count": null,
   "id": "bd4f186f-6b19-4103-9fc2-9879bd03200d",
   "metadata": {},
   "outputs": [],
   "source": [
    "uca_ipw.plot(Psi_shape=(2,6), real=True, imag=True, save=True)"
   ]
  },
  {
   "cell_type": "markdown",
   "id": "4ec80a5f-7b9a-4f5f-b532-f035e015a99a",
   "metadata": {},
   "source": [
    "The UCA below describes an infinite potential well where the cell width expands adiabatically."
   ]
  },
  {
   "cell_type": "code",
   "execution_count": null,
   "id": "c037c3fb-0719-40a8-afd8-948790c54428",
   "metadata": {},
   "outputs": [],
   "source": [
    "L       = 200\n",
    "N       = 400   \n",
    "theta   = np.pi/24    \n",
    "uca_ipw = UCA1D(N, name='box') \n",
    "X       = lambda x,t: x in (max(0,100-t//1000), 300+t//1000)\n",
    "uca_ipw.set_hamiltonian(theta, X=X)                      \n",
    "uca_ipw.update_U0U1 = True         # CRITICAL for correct eigen frequency\n",
    "uca_ipw.T_update= 10\n",
    "\n",
    "wave3   = lambda x: W_box1D(x, 200, 200,  3)\n",
    "name    = '34b-infinite-potential-well'\n",
    "title   = 'An infinite potential well with eigen state n=3'\n",
    "uca_ipw.init(wave3, name=name, title=title) \n",
    "uca_ipw.log_oscillation = True\n",
    "uca_ipw.log_sum_abs_Psi_imag = True\n",
    "uca_ipw.animate(200000, cpf=1000, Psi_save=12, imag=True, save=SAVE_MP4)"
   ]
  },
  {
   "cell_type": "code",
   "execution_count": null,
   "id": "98bd5b03-d7ff-499c-9630-a89cbf6ad0e1",
   "metadata": {},
   "outputs": [],
   "source": [
    "uca_ipw.plot(Psi_shape=(2,6), real=True, imag=True, save=True)"
   ]
  },
  {
   "cell_type": "markdown",
   "id": "536dd266",
   "metadata": {},
   "source": [
    "## The harmonic oscillator"
   ]
  },
  {
   "cell_type": "code",
   "execution_count": null,
   "id": "ab2c03d3",
   "metadata": {
    "hide_input": false
   },
   "outputs": [],
   "source": [
    "\n",
    "N       = 400\n",
    "rho     = N/12                           # from phys to CA coordinates        \n",
    "uca_ho  = UCA1D(N)\n",
    "theta   = np.pi/24\n",
    "kappa   = 2.18e-7                        # Hooke's force constant\n",
    "V       = lambda x: 0.5*kappa*(x-N//2)**2\n",
    "uca_ho.set_hamiltonian(theta, V=V)"
   ]
  },
  {
   "cell_type": "code",
   "execution_count": null,
   "id": "48b1b435-c7b6-46ab-b789-fd43db645c73",
   "metadata": {
    "hide_input": false
   },
   "outputs": [],
   "source": [
    "wave    = lambda x: W_harmonic1D(x, N, rho, 3)\n",
    "name    = '35a-harmonic-oscillator'\n",
    "title   = 'A harmonic oscillator with eigen state n=3'\n",
    "uca_ho.log_oscillation = True\n",
    "uca_ho.init(wave, name=name, title=title)  \n",
    "#uca_ho.run(7425, cpf=10, Psi_save=12)\n",
    "uca_ho.animate(7425, cpf=70, Psi_save=12, save=SAVE_MP4)"
   ]
  },
  {
   "cell_type": "code",
   "execution_count": null,
   "id": "e762a46e-70ad-46a3-a366-70d16b1ec9ab",
   "metadata": {
    "hide_input": false,
    "scrolled": true
   },
   "outputs": [],
   "source": [
    "uca_ho.plot(Psi_shape=(2,6), real=True, imag=True, save=True)"
   ]
  },
  {
   "cell_type": "markdown",
   "id": "47cdd84e-07fe-434e-99bf-1b6888ba5540",
   "metadata": {},
   "source": [
    "## The harmonic oscillator with $V(x,t)$"
   ]
  },
  {
   "cell_type": "code",
   "execution_count": null,
   "id": "f596a5b6-5ac2-4dbb-9374-4a391c6e614a",
   "metadata": {
    "hide_input": false
   },
   "outputs": [],
   "source": [
    "N       = 400\n",
    "rho     = N/12                          # from phys to CA coordinates        \n",
    "uca_hot = UCA1D(N)\n",
    "theta   = np.pi/24\n",
    "kappa   = 2.18e-7                       # Hooke's force constant\n",
    "alpha   = 0.00002\n",
    "V       = lambda x, t: 0.5*kappa*max(min(1+ (t-10000)*alpha,9),1)*(x-N//2)**2\n",
    "uca_hot.set_hamiltonian(theta, V=V)\n",
    "uca_hot.T_update= 10\n",
    "\n",
    "wave    = lambda x: W_harmonic1D(x, N, rho, 3)\n",
    "name    = '36b-harmonic-oscillator-adiabatic'\n",
    "title   = 'A harmonic oscillator (n=3), adiabatic rise of V(x,t)'\n",
    "uca_hot.log_oscillation = True\n",
    "uca_hot.init(wave, name=name, title=title)  \n",
    "uca_hot.animate(450000, cpf=5000, Psi_save=10, real=False, Psi2max=0.02, \n",
    "                save=SAVE_MP4)"
   ]
  },
  {
   "cell_type": "code",
   "execution_count": null,
   "id": "0b76bbfc-e021-46b0-a4ab-24dfdc9a3a92",
   "metadata": {},
   "outputs": [],
   "source": [
    "uca_hot.plot(Psi_slice=slice(0,10,2), Psi_shape=(1,5), real=True, save=True)"
   ]
  },
  {
   "cell_type": "code",
   "execution_count": null,
   "id": "9f6ef214-0692-4641-8c83-2a4a4956ebeb",
   "metadata": {
    "hide_input": false,
    "scrolled": true
   },
   "outputs": [],
   "source": [
    "N       = 400\n",
    "rho     = N/12                          # from phys to CA coordinates        \n",
    "uca_hot2= UCA1D(N)\n",
    "theta   = np.pi/24\n",
    "kappa   = 2.18e-7                      # Hooke's force constant\n",
    "alpha   = 1\n",
    "V       = lambda x, t: 0.5*kappa*max(min(1+ (t-5000)*alpha,9),1)*(x-N//2)**2\n",
    "uca_hot2.set_hamiltonian(theta, V=V)\n",
    "uca_hot2.T_update= 10\n",
    "\n",
    "wave    = lambda x: W_harmonic1D(x, N, rho, 3)\n",
    "name    = '36a-harmonic-oscillator-squeeze'\n",
    "title   = 'A harmonic oscillator (n=3): sudden rise of V(x,t)'\n",
    "uca_hot2.log_oscillation = True\n",
    "uca_hot2.init(wave, name=name, title=title)  \n",
    "Psi_save = [14841 + i*1071 for i in range(5)]\n",
    "uca_hot2.animate(30000, cpf=330, real=False, Psi2max=0.035, \n",
    "                 Psi_save=Psi_save, save=SAVE_MP4)"
   ]
  },
  {
   "cell_type": "code",
   "execution_count": null,
   "id": "c730768e-42fc-4eb5-a40a-b39f39a82d9d",
   "metadata": {
    "scrolled": true
   },
   "outputs": [],
   "source": [
    "uca_hot2.plot(Psi_shape=(1,5), real=False, save=True)"
   ]
  },
  {
   "cell_type": "code",
   "execution_count": null,
   "id": "fb844b4d-4c26-4213-aaeb-f04c06f413e7",
   "metadata": {},
   "outputs": [],
   "source": []
  }
 ],
 "metadata": {
  "kernelspec": {
   "display_name": "Python 3 (ipykernel)",
   "language": "python",
   "name": "python3"
  },
  "language_info": {
   "codemirror_mode": {
    "name": "ipython",
    "version": 3
   },
   "file_extension": ".py",
   "mimetype": "text/x-python",
   "name": "python",
   "nbconvert_exporter": "python",
   "pygments_lexer": "ipython3",
   "version": "3.12.7"
  },
  "latex_metadata": {
   "author": "KKJ, TU/e",
   "bib": "UCA.bib",
   "title": "Experiments with One-dimensional Unitary Cellular Automata (Draft)"
  },
  "toc": {
   "base_numbering": "3",
   "nav_menu": {},
   "number_sections": true,
   "sideBar": true,
   "skip_h1_title": false,
   "title_cell": "Table of Contents",
   "title_sidebar": "Contents",
   "toc_cell": false,
   "toc_position": {
    "height": "379.2px",
    "left": "24px",
    "top": "66.537px",
    "width": "248.075px"
   },
   "toc_section_display": true,
   "toc_window_display": true
  }
 },
 "nbformat": 4,
 "nbformat_minor": 5
}
